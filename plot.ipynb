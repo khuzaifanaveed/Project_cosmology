{
 "cells": [
  {
   "cell_type": "code",
   "execution_count": 22,
   "metadata": {},
   "outputs": [],
   "source": [
    "import numpy as np\n",
    "import matplotlib.pyplot as plt"
   ]
  },
  {
   "cell_type": "code",
   "execution_count": 23,
   "metadata": {},
   "outputs": [],
   "source": [
    "H0, Omega_M, Omega_lambda, w, M = np.loadtxt('estimate_combined.txt', unpack=True)\n",
    "H0_SNIa, Omega_M_SNIa, Omega_lambda_SNIa, w_SNIa, M_SNIa = np.loadtxt('estimate_SNIa.txt', unpack=True)\n",
    "H0_GRB, Omega_M_GRB, Omega_lambda_GRB, w_GRB, M_GRB = np.loadtxt('estimate_GRB.txt', unpack=True)\n",
    "H0_clusters, Omega_M_clusters, Omega_lambda_clusters, w_clusters, M_clusters = np.loadtxt('estimate_clusters.txt', unpack=True)"
   ]
  },
  {
   "cell_type": "code",
   "execution_count": 27,
   "metadata": {},
   "outputs": [
    {
     "name": "stdout",
     "output_type": "stream",
     "text": [
      "65.61957906338503\n"
     ]
    }
   ],
   "source": [
    "h = np.quantile(H0, 0.16)\n",
    "print(h)"
   ]
  }
 ],
 "metadata": {
  "kernelspec": {
   "display_name": "base",
   "language": "python",
   "name": "python3"
  },
  "language_info": {
   "codemirror_mode": {
    "name": "ipython",
    "version": 3
   },
   "file_extension": ".py",
   "mimetype": "text/x-python",
   "name": "python",
   "nbconvert_exporter": "python",
   "pygments_lexer": "ipython3",
   "version": "3.9.18"
  }
 },
 "nbformat": 4,
 "nbformat_minor": 2
}
